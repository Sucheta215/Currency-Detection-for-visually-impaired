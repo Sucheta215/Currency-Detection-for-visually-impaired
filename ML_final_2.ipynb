{
 "cells": [
  {
   "cell_type": "code",
   "execution_count": 8,
   "metadata": {},
   "outputs": [],
   "source": [
    "from tensorflow.keras.layers import Conv2D,Flatten,Dense,MaxPool2D,BatchNormalization,GlobalAveragePooling2D\n",
    "from tensorflow.keras.applications.resnet50 import preprocess_input,decode_predictions\n",
    "from tensorflow.keras.preprocessing.image import ImageDataGenerator,load_img\n",
    "from tensorflow.keras.applications.resnet50 import ResNet50\n",
    "from tensorflow.keras.preprocessing import image\n",
    "from tensorflow.keras.models import Sequential\n",
    "from tensorflow.keras.models import Model\n",
    "import matplotlib.pyplot as plt\n",
    "import numpy as np\n",
    "import cv2\n",
    "import os"
   ]
  },
  {
   "cell_type": "code",
   "execution_count": 9,
   "metadata": {},
   "outputs": [],
   "source": [
    "h,w = (225,225)\n",
    "batch_size = 32\n",
    "\n",
    "train_data_dir = r\"newcurr/training/\"\n",
    "valid_data_dir = r\"newcurr/validation/\"\n",
    "test_data_dir = r\"newcurr/testing/\""
   ]
  },
  {
   "cell_type": "code",
   "execution_count": 11,
   "metadata": {},
   "outputs": [
    {
     "name": "stdout",
     "output_type": "stream",
     "text": [
      "Found 447 images belonging to 7 classes.\n",
      "Found 60 images belonging to 7 classes.\n"
     ]
    }
   ],
   "source": [
    "# parameters for neural network\n",
    "train_datagen = ImageDataGenerator(preprocessing_function=preprocess_input,\n",
    "                                  shear_range=0.2,\n",
    "                                  zoom_range=0.2,\n",
    "                                  horizontal_flip=True,\n",
    "                                  validation_split=0.4) # randomly generates images\n",
    "\n",
    "train_generator = train_datagen.flow_from_directory(\n",
    "    train_data_dir,\n",
    "    target_size = (h,w),\n",
    "    batch_size = batch_size,\n",
    "    class_mode = 'categorical',\n",
    "    subset = 'training')\n",
    "\n",
    "valid_generator = train_datagen.flow_from_directory(\n",
    "    valid_data_dir,\n",
    "    target_size = (h,w),\n",
    "    batch_size = batch_size,\n",
    "    class_mode = 'categorical',\n",
    "    subset = 'validation')"
   ]
  },
  {
   "cell_type": "code",
   "execution_count": 12,
   "metadata": {},
   "outputs": [
    {
     "name": "stdout",
     "output_type": "stream",
     "text": [
      "Found 80 images belonging to 7 classes.\n"
     ]
    }
   ],
   "source": [
    "test_generator = train_datagen.flow_from_directory(\n",
    "    test_data_dir,\n",
    "    target_size = (h,w),\n",
    "    batch_size = 1,\n",
    "    class_mode = 'categorical',\n",
    "    subset = 'validation')"
   ]
  },
  {
   "cell_type": "code",
   "execution_count": 13,
   "metadata": {},
   "outputs": [
    {
     "name": "stdout",
     "output_type": "stream",
     "text": [
      "Downloading data from https://storage.googleapis.com/tensorflow/keras-applications/resnet/resnet50_weights_tf_dim_ordering_tf_kernels_notop.h5\n",
      "94765736/94765736 [==============================] - 17s 0us/step\n",
      "Epoch 1/50\n",
      "14/14 [==============================] - 49s 3s/step - loss: 2.3834 - accuracy: 0.4855\n",
      "Epoch 2/50\n",
      "14/14 [==============================] - 46s 3s/step - loss: 0.4010 - accuracy: 0.8523\n",
      "Epoch 3/50\n",
      "14/14 [==============================] - 50s 3s/step - loss: 0.2019 - accuracy: 0.9418\n",
      "Epoch 4/50\n",
      "14/14 [==============================] - 47s 3s/step - loss: 0.1165 - accuracy: 0.9642\n",
      "Epoch 5/50\n",
      "14/14 [==============================] - 45s 3s/step - loss: 0.0692 - accuracy: 0.9866\n",
      "Epoch 6/50\n",
      "14/14 [==============================] - 45s 3s/step - loss: 0.0534 - accuracy: 0.9866\n",
      "Epoch 7/50\n",
      "14/14 [==============================] - 42s 3s/step - loss: 0.0436 - accuracy: 0.9955\n",
      "Epoch 8/50\n",
      "14/14 [==============================] - 42s 3s/step - loss: 0.0337 - accuracy: 0.9955\n",
      "Epoch 9/50\n",
      "14/14 [==============================] - 45s 3s/step - loss: 0.0272 - accuracy: 0.9978\n",
      "Epoch 10/50\n",
      "14/14 [==============================] - 39s 3s/step - loss: 0.0229 - accuracy: 0.9978\n",
      "Epoch 11/50\n",
      "14/14 [==============================] - 39s 3s/step - loss: 0.0133 - accuracy: 0.9978\n",
      "Epoch 12/50\n",
      "14/14 [==============================] - 38s 3s/step - loss: 0.0149 - accuracy: 0.9978\n",
      "Epoch 13/50\n",
      "14/14 [==============================] - 39s 3s/step - loss: 0.0128 - accuracy: 1.0000\n",
      "Epoch 14/50\n",
      "14/14 [==============================] - 40s 3s/step - loss: 0.0091 - accuracy: 1.0000\n",
      "Epoch 15/50\n",
      "14/14 [==============================] - 39s 3s/step - loss: 0.0070 - accuracy: 1.0000\n",
      "Epoch 16/50\n",
      "14/14 [==============================] - 39s 3s/step - loss: 0.0062 - accuracy: 1.0000\n",
      "Epoch 17/50\n",
      "14/14 [==============================] - 40s 3s/step - loss: 0.0063 - accuracy: 1.0000\n",
      "Epoch 18/50\n",
      "14/14 [==============================] - 38s 3s/step - loss: 0.0070 - accuracy: 1.0000\n",
      "Epoch 19/50\n",
      "14/14 [==============================] - 38s 3s/step - loss: 0.0057 - accuracy: 1.0000\n",
      "Epoch 20/50\n",
      "14/14 [==============================] - 38s 3s/step - loss: 0.0056 - accuracy: 1.0000\n",
      "Epoch 21/50\n",
      "14/14 [==============================] - 38s 3s/step - loss: 0.0036 - accuracy: 1.0000\n",
      "Epoch 22/50\n",
      "14/14 [==============================] - 39s 3s/step - loss: 0.0040 - accuracy: 1.0000\n",
      "Epoch 23/50\n",
      "14/14 [==============================] - 38s 3s/step - loss: 0.0036 - accuracy: 1.0000\n",
      "Epoch 24/50\n",
      "14/14 [==============================] - 38s 3s/step - loss: 0.0057 - accuracy: 1.0000\n",
      "Epoch 25/50\n",
      "14/14 [==============================] - 39s 3s/step - loss: 0.0038 - accuracy: 1.0000\n",
      "Epoch 26/50\n",
      "14/14 [==============================] - 40s 3s/step - loss: 0.0038 - accuracy: 1.0000\n",
      "Epoch 27/50\n",
      "14/14 [==============================] - 38s 3s/step - loss: 0.0033 - accuracy: 1.0000\n",
      "Epoch 28/50\n",
      "14/14 [==============================] - 38s 3s/step - loss: 0.0042 - accuracy: 1.0000\n",
      "Epoch 29/50\n",
      "14/14 [==============================] - 38s 3s/step - loss: 0.0023 - accuracy: 1.0000\n",
      "Epoch 30/50\n",
      "14/14 [==============================] - 39s 3s/step - loss: 0.0033 - accuracy: 1.0000\n",
      "Epoch 31/50\n",
      "14/14 [==============================] - 38s 3s/step - loss: 0.0025 - accuracy: 1.0000\n",
      "Epoch 32/50\n",
      "14/14 [==============================] - 38s 3s/step - loss: 0.0023 - accuracy: 1.0000\n",
      "Epoch 33/50\n",
      "14/14 [==============================] - 2322s 178s/step - loss: 0.0022 - accuracy: 1.0000\n",
      "Epoch 34/50\n",
      "14/14 [==============================] - 56s 4s/step - loss: 0.0019 - accuracy: 1.0000\n",
      "Epoch 35/50\n",
      "14/14 [==============================] - 46s 3s/step - loss: 0.0018 - accuracy: 1.0000\n",
      "Epoch 36/50\n",
      "14/14 [==============================] - 47s 3s/step - loss: 0.0016 - accuracy: 1.0000\n",
      "Epoch 37/50\n",
      "14/14 [==============================] - 46s 3s/step - loss: 0.0015 - accuracy: 1.0000\n",
      "Epoch 38/50\n",
      "14/14 [==============================] - 46s 3s/step - loss: 0.0014 - accuracy: 1.0000\n",
      "Epoch 39/50\n",
      "14/14 [==============================] - 49s 3s/step - loss: 0.0015 - accuracy: 1.0000\n",
      "Epoch 40/50\n",
      "14/14 [==============================] - 47s 3s/step - loss: 0.0196 - accuracy: 0.9933\n",
      "Epoch 41/50\n",
      "14/14 [==============================] - 46s 3s/step - loss: 0.0305 - accuracy: 0.9911\n",
      "Epoch 42/50\n",
      "14/14 [==============================] - 48s 3s/step - loss: 0.0161 - accuracy: 0.9955\n",
      "Epoch 43/50\n",
      "14/14 [==============================] - 46s 3s/step - loss: 0.0144 - accuracy: 0.9955\n",
      "Epoch 44/50\n",
      "14/14 [==============================] - 48s 3s/step - loss: 0.0148 - accuracy: 0.9955\n",
      "Epoch 45/50\n",
      "14/14 [==============================] - 47s 3s/step - loss: 0.0129 - accuracy: 0.9978\n",
      "Epoch 46/50\n",
      "14/14 [==============================] - 47s 3s/step - loss: 0.0080 - accuracy: 0.9978\n",
      "Epoch 47/50\n",
      "14/14 [==============================] - 41s 3s/step - loss: 0.0028 - accuracy: 1.0000\n",
      "Epoch 48/50\n",
      "14/14 [==============================] - 38s 3s/step - loss: 0.0023 - accuracy: 1.0000\n",
      "Epoch 49/50\n",
      "14/14 [==============================] - 38s 3s/step - loss: 0.0013 - accuracy: 1.0000\n",
      "Epoch 50/50\n",
      "14/14 [==============================] - 42s 3s/step - loss: 0.0010 - accuracy: 1.0000\n"
     ]
    },
    {
     "data": {
      "text/plain": [
       "<keras.callbacks.History at 0x21d5f7acdf0>"
      ]
     },
     "execution_count": 13,
     "metadata": {},
     "output_type": "execute_result"
    }
   ],
   "source": [
    "base_model = ResNet50(include_top = False, weights='imagenet')\n",
    "x = base_model.output\n",
    "x = GlobalAveragePooling2D()(x)\n",
    "x = Dense(1024,activation='relu')(x)\n",
    "predictions = Dense(train_generator.num_classes, activation = 'softmax')(x)\n",
    "model = Model(inputs=base_model.input, outputs=predictions)\n",
    "\n",
    "for layer in base_model.layers:\n",
    "    layer.trainable = False\n",
    "    \n",
    "model.compile(optimizer = 'adam', loss ='categorical_crossentropy', metrics = ['accuracy'])\n",
    "\n",
    "model.fit(train_generator,epochs = 50)"
   ]
  },
  {
   "cell_type": "code",
   "execution_count": 19,
   "metadata": {},
   "outputs": [
    {
     "name": "stdout",
     "output_type": "stream",
     "text": [
      "80/80 [==============================] - 12s 151ms/step - loss: 1.9106 - accuracy: 0.6875\n",
      "Test accuracy:  68.75 %\n"
     ]
    }
   ],
   "source": [
    "test_loss, test_acc = model.evaluate(test_generator,verbose=1)\n",
    "p = (test_acc * 100)\n",
    "per = round(p,2)\n",
    "print(\"Test accuracy: \",per,\"%\")"
   ]
  },
  {
   "cell_type": "code",
   "execution_count": null,
   "metadata": {},
   "outputs": [],
   "source": [
    "year = 2000\n",
    "if(year%400==0 && year%100==0 || year%4==0):\n",
    "    print(\"Leap year\")\n",
    "else:\n",
    "    print(\"Not leap year\")"
   ]
  }
 ],
 "metadata": {
  "kernelspec": {
   "display_name": "Python 3",
   "language": "python",
   "name": "python3"
  },
  "language_info": {
   "codemirror_mode": {
    "name": "ipython",
    "version": 3
   },
   "file_extension": ".py",
   "mimetype": "text/x-python",
   "name": "python",
   "nbconvert_exporter": "python",
   "pygments_lexer": "ipython3",
   "version": "3.8.5"
  }
 },
 "nbformat": 4,
 "nbformat_minor": 5
}
